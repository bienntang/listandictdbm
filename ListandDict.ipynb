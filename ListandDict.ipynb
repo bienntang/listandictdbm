{
 "cells": [
  {
   "cell_type": "code",
   "execution_count": 12,
   "id": "81723b7a",
   "metadata": {},
   "outputs": [
    {
     "name": "stdout",
     "output_type": "stream",
     "text": [
      "['Wonwoo', 'Han', 'Joshua', 'Dino', 'Jun']\n",
      "\n",
      "Nama siswa pertama Wonwoo\n",
      "\n",
      "Nama siswa terakhir Jun\n",
      "\n",
      "Tiga nama siswa terakhir ['Joshua', 'Dino', 'Jun']\n",
      "\n",
      "Daftar siswa\n",
      "0: Wonwoo\n",
      "1: Han\n",
      "2: Joshua\n",
      "3: Dino\n",
      "4: Jun\n",
      "\n",
      "Dictionary setelah update & hapus:\n",
      "{'Mingyu': 78, 'Han': 88, 'Joshua': 89, 'Dino': 85}\n",
      "\n",
      "Dictionary setelah ganti key:\n",
      "{'Mingyu': 78, 'Joshua': 89, 'Dino': 85, 'Jeonghan': 88}\n"
     ]
    }
   ],
   "source": [
    "# No 1 dan 2\n",
    "\n",
    "siswa = [\"Mingyu\", \"Wonwoo\", \"Han\", \"Joshua\", \"Dino\"]\n",
    "\n",
    "nilai_siswa = {\n",
    "    \"Mingyu\": 78,\n",
    "    \"Wonwoo\": 90,\n",
    "    \"Han\": 88,\n",
    "    \"Joshua\": 89,\n",
    "    \"Dino\": 85\n",
    "}\n",
    "\n",
    "# Tambahkan satu nama siswa baru ke akhir list siswa, hapus satu siswa tertentu dari list, lalu cetak daftar siswa yang tersisa.\n",
    "\n",
    "siswa.append(\"Jun\") # Tambah\n",
    "\n",
    "siswa.remove(\"Mingyu\") #Hapus\n",
    "\n",
    "print(siswa)\n",
    "\n",
    "# Cetak nama siswa pertama dan terakhir dari list siswa, lalu cetak 3 siswa terakhir menggunakan slicing.\n",
    "print(\"\\nNama siswa pertama\", siswa[0])\n",
    "\n",
    "print(\"\\nNama siswa terakhir\", siswa[-1])\n",
    "\n",
    "print(\"\\nTiga nama siswa terakhir\", siswa[-3:])\n",
    "\n",
    "# Gunakan suatu cara untuk mencetak index dan nama siswa dalam list siswa dengan format\n",
    "print(\"\\nDaftar siswa\")\n",
    "for i in range(len(siswa)):\n",
    "    print(f\"{i}: {siswa[i]}\")\n",
    "\n",
    "# Ubah nilai ujian salah satu siswa di dictionary nilai_siswa, hapus data nilai siswa lain menggunakan pop(), lalu cetak dictionary hasilnya.\n",
    "nilai_siswa.pop(\"Wonwoo\")\n",
    "\n",
    "print(\"\\nDictionary setelah update & hapus:\")\n",
    "print(nilai_siswa)\n",
    "\n",
    "# Ganti key nama siswa tertentu di dictionary nilai_siswa menjadi nama baru, lalu cetak hasilnya\n",
    "nilai_siswa[\"Jeonghan\"] = nilai_siswa.pop(\"Han\")\n",
    "\n",
    "print(\"\\nDictionary setelah ganti key:\")\n",
    "print(nilai_siswa)"
   ]
  }
 ],
 "metadata": {
  "kernelspec": {
   "display_name": "Python 3",
   "language": "python",
   "name": "python3"
  },
  "language_info": {
   "codemirror_mode": {
    "name": "ipython",
    "version": 3
   },
   "file_extension": ".py",
   "mimetype": "text/x-python",
   "name": "python",
   "nbconvert_exporter": "python",
   "pygments_lexer": "ipython3",
   "version": "3.12.10"
  }
 },
 "nbformat": 4,
 "nbformat_minor": 5
}
